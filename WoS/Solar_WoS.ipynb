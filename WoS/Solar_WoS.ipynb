{
 "cells": [
  {
   "cell_type": "code",
   "execution_count": 1,
   "metadata": {},
   "outputs": [],
   "source": [
    "from preamble import *"
   ]
  },
  {
   "cell_type": "code",
   "execution_count": 28,
   "metadata": {},
   "outputs": [],
   "source": [
    "columns =  ['PT', 'AU', 'BA', 'BE', 'GP', 'AF', 'BF', 'CA', 'TI', 'SO', 'SE', 'BS',\n",
    "       'LA', 'DT', 'CT', 'CY', 'CL', 'SP', 'HO', 'DE', 'ID', 'AB', 'C1', 'RP',\n",
    "       'EM', 'RI', 'OI', 'FU', 'FX', 'CR', 'NR', 'TC', 'Z9', 'U1', 'U2', 'PU',\n",
    "       'PI', 'PA', 'SN', 'EI', 'BN', 'J9', 'JI', 'PD', 'PY', 'VL', 'IS', 'PN',\n",
    "       'SU', 'SI', 'MA', 'BP', 'EP', 'AR', 'DI', 'D2', 'EA', 'EY', 'PG', 'WC',\n",
    "       'SC', 'GA', 'UT', 'PM', 'OA', 'HC', 'HP', 'DA']"
   ]
  },
  {
   "cell_type": "code",
   "execution_count": 31,
   "metadata": {},
   "outputs": [],
   "source": [
    "myfile = \"/home/andre/Documentos/SOLAR/WoS/all/savedrecs.txt\"\n",
    "import codecs\n",
    "\n",
    "doc = codecs.open(myfile,'rU','UTF-16')\n",
    "df = pd.read_csv(doc,usecols=columns, sep='\\t')\n",
    "\n",
    "#print(set(df.keys()).difference(columns))"
   ]
  },
  {
   "cell_type": "code",
   "execution_count": 32,
   "metadata": {},
   "outputs": [
    {
     "name": "stdout",
     "output_type": "stream",
     "text": [
      "Index(['PT', 'AU', 'BA', 'BE', 'GP', 'AF', 'BF', 'CA', 'TI', 'SO', 'SE', 'BS',\n",
      "       'LA', 'DT', 'CT', 'CY', 'CL', 'SP', 'HO', 'DE', 'ID', 'AB', 'C1', 'RP',\n",
      "       'EM', 'RI', 'OI', 'FU', 'FX', 'CR', 'NR', 'TC', 'Z9', 'U1', 'U2', 'PU',\n",
      "       'PI', 'PA', 'SN', 'EI', 'BN', 'J9', 'JI', 'PD', 'PY', 'VL', 'IS', 'PN',\n",
      "       'SU', 'SI', 'MA', 'BP', 'EP', 'AR', 'DI', 'D2', 'EA', 'EY', 'PG', 'WC',\n",
      "       'SC', 'GA', 'UT', 'PM', 'OA', 'HC', 'HP', 'DA'],\n",
      "      dtype='object')\n"
     ]
    }
   ],
   "source": [
    "print(df.keys())"
   ]
  },
  {
   "cell_type": "code",
   "execution_count": 33,
   "metadata": {},
   "outputs": [
    {
     "data": {
      "text/plain": [
       "PT                                                    J\n",
       "AU                                OREGAN, B; GRATZEL, M\n",
       "BA                                                  NaN\n",
       "BE                                                  NaN\n",
       "GP                                                  NaN\n",
       "AF                                OREGAN, B; GRATZEL, M\n",
       "BF                                                  NaN\n",
       "CA                                                  NaN\n",
       "TI    A LOW-COST, HIGH-EFFICIENCY SOLAR-CELL BASED O...\n",
       "SO                                               NATURE\n",
       "SE                                                  NaN\n",
       "BS                                                  NaN\n",
       "LA                                              English\n",
       "DT                                              Article\n",
       "CT                                                  NaN\n",
       "CY                                                  NaN\n",
       "CL                                                  NaN\n",
       "SP                                                  NaN\n",
       "HO                                                  NaN\n",
       "DE                                                  NaN\n",
       "ID    PHOTOELECTROCHEMICAL CONVERSION; ELECTROCHEMIS...\n",
       "AB    THE large-scale use of photovoltaic devices fo...\n",
       "C1    SWISS FED INST TECHNOL, INST PHYS CHEM, CH-101...\n",
       "RP                                                  NaN\n",
       "EM                                                  NaN\n",
       "RI    Graetzel, Michael/G-4870-2011; Wei, Zhanhua/D-...\n",
       "OI                     Wei, Zhanhua/0000-0003-2687-0293\n",
       "FU                                                  NaN\n",
       "FX                                                  NaN\n",
       "CR    ALONSO N, 1981, REV PHYS APPL, V16, P5, DOI 10...\n",
       "                            ...                        \n",
       "SN                                            0028-0836\n",
       "EI                                                  NaN\n",
       "BN                                                  NaN\n",
       "J9                                               NATURE\n",
       "JI                                               Nature\n",
       "PD                                               OCT 24\n",
       "PY                                                 1991\n",
       "VL                                              3.5e+02\n",
       "IS                                                 6346\n",
       "PN                                                  NaN\n",
       "SU                                                  NaN\n",
       "SI                                                  NaN\n",
       "MA                                                  NaN\n",
       "BP                                                  737\n",
       "EP                                                  740\n",
       "AR                                                  NaN\n",
       "DI                                     10.1038/353737a0\n",
       "D2                                                  NaN\n",
       "EA                                                  NaN\n",
       "EY                                                  NaN\n",
       "PG                                                    4\n",
       "WC                           Multidisciplinary Sciences\n",
       "SC                  Science & Technology - Other Topics\n",
       "GA                                                GL696\n",
       "UT                                  WOS:A1991GL69600062\n",
       "PM                                                  NaN\n",
       "OA                                                  NaN\n",
       "HC                                                  NaN\n",
       "HP                                                  NaN\n",
       "DA                                           2018-05-11\n",
       "Name: 0, Length: 68, dtype: object"
      ]
     },
     "execution_count": 33,
     "metadata": {},
     "output_type": "execute_result"
    }
   ],
   "source": [
    "df.iloc[0]"
   ]
  },
  {
   "cell_type": "code",
   "execution_count": 34,
   "metadata": {},
   "outputs": [
    {
     "data": {
      "text/html": [
       "<div>\n",
       "<style scoped>\n",
       "    .dataframe tbody tr th:only-of-type {\n",
       "        vertical-align: middle;\n",
       "    }\n",
       "\n",
       "    .dataframe tbody tr th {\n",
       "        vertical-align: top;\n",
       "    }\n",
       "\n",
       "    .dataframe thead th {\n",
       "        text-align: right;\n",
       "    }\n",
       "</style>\n",
       "<table border=\"1\" class=\"dataframe\">\n",
       "  <thead>\n",
       "    <tr style=\"text-align: right;\">\n",
       "      <th></th>\n",
       "      <th>PT</th>\n",
       "      <th>AU</th>\n",
       "      <th>BA</th>\n",
       "      <th>BE</th>\n",
       "      <th>...</th>\n",
       "      <th>OA</th>\n",
       "      <th>HC</th>\n",
       "      <th>HP</th>\n",
       "      <th>DA</th>\n",
       "    </tr>\n",
       "  </thead>\n",
       "  <tbody>\n",
       "    <tr>\n",
       "      <th>0</th>\n",
       "      <td>J</td>\n",
       "      <td>OREGAN, B; GRATZEL, M</td>\n",
       "      <td>NaN</td>\n",
       "      <td>NaN</td>\n",
       "      <td>...</td>\n",
       "      <td>NaN</td>\n",
       "      <td>NaN</td>\n",
       "      <td>NaN</td>\n",
       "      <td>2018-05-11</td>\n",
       "    </tr>\n",
       "    <tr>\n",
       "      <th>1</th>\n",
       "      <td>J</td>\n",
       "      <td>NAZEERUDDIN, MK; KAY, A; RODICIO, I; HUMPHRYBA...</td>\n",
       "      <td>NaN</td>\n",
       "      <td>NaN</td>\n",
       "      <td>...</td>\n",
       "      <td>NaN</td>\n",
       "      <td>NaN</td>\n",
       "      <td>NaN</td>\n",
       "      <td>2018-05-11</td>\n",
       "    </tr>\n",
       "    <tr>\n",
       "      <th>2</th>\n",
       "      <td>J</td>\n",
       "      <td>Hagfeldt, A; Boschloo, G; Sun, LC; Kloo, L; Pe...</td>\n",
       "      <td>NaN</td>\n",
       "      <td>NaN</td>\n",
       "      <td>...</td>\n",
       "      <td>NaN</td>\n",
       "      <td>Y</td>\n",
       "      <td>N</td>\n",
       "      <td>2018-05-11</td>\n",
       "    </tr>\n",
       "    <tr>\n",
       "      <th>3</th>\n",
       "      <td>J</td>\n",
       "      <td>Kudo, A; Miseki, Y</td>\n",
       "      <td>NaN</td>\n",
       "      <td>NaN</td>\n",
       "      <td>...</td>\n",
       "      <td>NaN</td>\n",
       "      <td>Y</td>\n",
       "      <td>N</td>\n",
       "      <td>2018-05-11</td>\n",
       "    </tr>\n",
       "    <tr>\n",
       "      <th>4</th>\n",
       "      <td>J</td>\n",
       "      <td>Atwater, HA; Polman, A</td>\n",
       "      <td>NaN</td>\n",
       "      <td>NaN</td>\n",
       "      <td>...</td>\n",
       "      <td>NaN</td>\n",
       "      <td>Y</td>\n",
       "      <td>N</td>\n",
       "      <td>2018-05-11</td>\n",
       "    </tr>\n",
       "  </tbody>\n",
       "</table>\n",
       "<p>5 rows × 68 columns</p>\n",
       "</div>"
      ],
      "text/plain": [
       "  PT                                                 AU  BA   BE     ...      \\\n",
       "0  J                              OREGAN, B; GRATZEL, M NaN  NaN     ...       \n",
       "1  J  NAZEERUDDIN, MK; KAY, A; RODICIO, I; HUMPHRYBA... NaN  NaN     ...       \n",
       "2  J  Hagfeldt, A; Boschloo, G; Sun, LC; Kloo, L; Pe... NaN  NaN     ...       \n",
       "3  J                                 Kudo, A; Miseki, Y NaN  NaN     ...       \n",
       "4  J                             Atwater, HA; Polman, A NaN  NaN     ...       \n",
       "\n",
       "    OA   HC   HP          DA  \n",
       "0  NaN  NaN  NaN  2018-05-11  \n",
       "1  NaN  NaN  NaN  2018-05-11  \n",
       "2  NaN    Y    N  2018-05-11  \n",
       "3  NaN    Y    N  2018-05-11  \n",
       "4  NaN    Y    N  2018-05-11  \n",
       "\n",
       "[5 rows x 68 columns]"
      ]
     },
     "execution_count": 34,
     "metadata": {},
     "output_type": "execute_result"
    }
   ],
   "source": [
    "df.head()"
   ]
  },
  {
   "cell_type": "code",
   "execution_count": 38,
   "metadata": {},
   "outputs": [
    {
     "data": {
      "text/plain": [
       "Index(['PT', 'AU', 'BA', 'BE', 'GP', 'AF', 'BF', 'CA', 'TI', 'SO', 'SE', 'BS',\n",
       "       'LA', 'DT', 'CT', 'CY', 'CL', 'SP', 'HO', 'DE', 'ID', 'AB', 'C1', 'RP',\n",
       "       'EM', 'RI', 'OI', 'FU', 'FX', 'CR', 'NR', 'TC', 'Z9', 'U1', 'U2', 'PU',\n",
       "       'PI', 'PA', 'SN', 'EI', 'BN', 'J9', 'JI', 'PD', 'PY', 'VL', 'IS', 'PN',\n",
       "       'SU', 'SI', 'MA', 'BP', 'EP', 'AR', 'DI', 'D2', 'EA', 'EY', 'PG', 'WC',\n",
       "       'SC', 'GA', 'UT', 'PM', 'OA', 'HC', 'HP', 'DA'],\n",
       "      dtype='object')"
      ]
     },
     "execution_count": 38,
     "metadata": {},
     "output_type": "execute_result"
    }
   ],
   "source": []
  },
  {
   "cell_type": "code",
   "execution_count": null,
   "metadata": {},
   "outputs": [],
   "source": []
  },
  {
   "cell_type": "code",
   "execution_count": null,
   "metadata": {},
   "outputs": [],
   "source": [
    "\n"
   ]
  },
  {
   "cell_type": "code",
   "execution_count": 35,
   "metadata": {},
   "outputs": [
    {
     "name": "stdout",
     "output_type": "stream",
     "text": [
      "0      A LOW-COST, HIGH-EFFICIENCY SOLAR-CELL BASED O...\n",
      "1      CONVERSION OF LIGHT TO ELECTRICITY BY CIS-X2BI...\n",
      "2                             Dye-Sensitized Solar Cells\n",
      "3      Heterogeneous photocatalyst materials for wate...\n",
      "4           Plasmonics for improved photovoltaic devices\n",
      "5      Organometal Halide Perovskites as Visible-Ligh...\n",
      "6      High-efficiency solution processable polymer p...\n",
      "7      LIGHT-INDUCED REDOX REACTIONS IN NANOCRYSTALLI...\n",
      "8                    Nanowire dye-sensitized solar cells\n",
      "9      Efficient Hybrid Solar Cells Based on Meso-Sup...\n",
      "10     Powering the planet: Chemical challenges in so...\n",
      "11     A metal-free polymeric photocatalyst for hydro...\n",
      "12     Efficient planar heterojunction perovskite sol...\n",
      "13                                   Plastic solar cells\n",
      "14     Design rules for donors in bulk-heterojunction...\n",
      "15     Organic photovoltaics - Polymer-fullerene comp...\n",
      "16     Efficient photochemical water splitting by a c...\n",
      "17     Enhanced power-conversion efficiency in polyme...\n",
      "18     Solid-state dye-sensitized mesoporous TiO2 sol...\n",
      "19           Photoinduced reactivity of titanium dioxide\n",
      "20                            Dye-sensitized solar cells\n",
      "21     Co3O4 nanocrystals on graphene as a synergisti...\n",
      "22     THE EVOLUTION AND EXPLOSION OF MASSIVE STARS ....\n",
      "23     Polymer solar cells with enhanced open-circuit...\n",
      "24     Solar energy conversion by dye-sensitized phot...\n",
      "25     Polymer-Fullerene Bulk-Heterojunction Solar Cells\n",
      "26     NEW GRIDS OF STELLAR MODELS FROM 0.8 TO 120 M-...\n",
      "27                                   Polymer solar cells\n",
      "28            2.5% efficient organic plastic solar cells\n",
      "29     Direct splitting of water under visible light ...\n",
      "                             ...                        \n",
      "470    Asymmetric tandem organic photovoltaic cells w...\n",
      "471    ENERGY-BALANCE IN THE SOLAR TRANSITION REGION ...\n",
      "472    Wettability and Surface Free Energy of Graphen...\n",
      "473    Nickel-Cobalt Hydroxide Nanosheets Coated on N...\n",
      "474    Photon upconversion based on sensitized triple...\n",
      "475    Microalgae as biodiesel & biomass feedstocks: ...\n",
      "476    Observational constraints on the dynamics of t...\n",
      "477    Continuous-time random-walk model of electron ...\n",
      "478    Efficiency of solar water splitting using semi...\n",
      "479    Physical chemical principles of photovoltaic c...\n",
      "480    The theory of brown dwarfs and extrasolar gian...\n",
      "481    Nanostructured carbon for energy storage and c...\n",
      "482    Dye-Sensitized Solar Cells with a High Absorpt...\n",
      "483    Improved performance of amorphous silicon sola...\n",
      "484    Ionic transport in hybrid lead iodide perovski...\n",
      "485    Visible-light driven heterojunction photocatal...\n",
      "486    Charge carrier formation in polythiophene/full...\n",
      "487                            Polymer-based solar cells\n",
      "488    ASTROPHYSICAL METHODS TO CONSTRAIN AXIONS AND ...\n",
      "489    Unique Properties of Halide Perovskites as Pos...\n",
      "490                       Poly(ionic liquid)s: An update\n",
      "491    RELATIVISTIC FIREBALLS AND THEIR IMPACT ON EXT...\n",
      "492    Photocatalysis with solar energy at a pilot-pl...\n",
      "493    Solar-energy conversion and light emission in ...\n",
      "494    Lanthanide ions as spectral converters for sol...\n",
      "495    Quantum Dot Solar Cells. The Next Big Thing in...\n",
      "496    Intermolecular and supramolecular photoinduced...\n",
      "497    Efficient Water Oxidation Using Nanostructured...\n",
      "498    Catalysis of the electrochemical reduction of ...\n",
      "499           MODEL OF HIGH-ENERGY PHASE OF SOLAR FLARES\n",
      "Name: TI, Length: 500, dtype: object\n"
     ]
    }
   ],
   "source": [
    "temp = df[\"TI\"]\n",
    "print(temp)\n",
    "#temp.plot(kind='bar', xTitle = 'State name', yTitle = \"# of incidents\", title = 'Top States with highest number of Gun Violence')"
   ]
  },
  {
   "cell_type": "code",
   "execution_count": null,
   "metadata": {},
   "outputs": [],
   "source": []
  },
  {
   "cell_type": "code",
   "execution_count": 30,
   "metadata": {},
   "outputs": [
    {
     "data": {
      "text/plain": [
       "Index(['AU', 'TI', 'SO', 'DT', 'LA', 'DE', 'ID', 'AB', 'C1', 'CR', 'PU', 'PY',\n",
       "       'WC', 'SC'],\n",
       "      dtype='object')"
      ]
     },
     "execution_count": 30,
     "metadata": {},
     "output_type": "execute_result"
    }
   ],
   "source": [
    "df.keys()"
   ]
  },
  {
   "cell_type": "code",
   "execution_count": 35,
   "metadata": {},
   "outputs": [
    {
     "data": {
      "text/plain": [
       "AU                                                  NaN\n",
       "TI                                               NATURE\n",
       "SO                                                  NaN\n",
       "DT                                                  NaN\n",
       "LA                                              Article\n",
       "DE    PHOTOELECTROCHEMICAL CONVERSION; ELECTROCHEMIS...\n",
       "ID    THE large-scale use of photovoltaic devices fo...\n",
       "AB    SWISS FED INST TECHNOL, INST PHYS CHEM, CH-101...\n",
       "C1                                                  NaN\n",
       "CR                                                   19\n",
       "PU                                               LONDON\n",
       "PY                                              3.5e+02\n",
       "WC                  Science & Technology - Other Topics\n",
       "SC                                                GL696\n",
       "Name: J, dtype: object"
      ]
     },
     "execution_count": 35,
     "metadata": {},
     "output_type": "execute_result"
    }
   ],
   "source": [
    "df.iloc[0]"
   ]
  },
  {
   "cell_type": "code",
   "execution_count": null,
   "metadata": {},
   "outputs": [],
   "source": []
  }
 ],
 "metadata": {
  "kernelspec": {
   "display_name": "Python 3",
   "language": "python",
   "name": "python3"
  },
  "language_info": {
   "codemirror_mode": {
    "name": "ipython",
    "version": 3
   },
   "file_extension": ".py",
   "mimetype": "text/x-python",
   "name": "python",
   "nbconvert_exporter": "python",
   "pygments_lexer": "ipython3",
   "version": "3.5.2"
  }
 },
 "nbformat": 4,
 "nbformat_minor": 2
}
