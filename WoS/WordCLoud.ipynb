{
 "cells": [
  {
   "cell_type": "code",
   "execution_count": null,
   "metadata": {},
   "outputs": [],
   "source": [
    "from subprocess import check_output\n",
    "from wordcloud import WordCloud, STOPWORDS\n",
    "import matplotlib as mpl\n",
    "\n",
    "def Wordcloud(frame):\n",
    "    list_di=[]\n",
    "    for i in frame[\"ID\"]:\n",
    "        if not i == None:\n",
    "            for j in i.split(';'):\n",
    "                list_di.append(j)\n",
    "    #mpl.rcParams['figure.figsize']=(8.0,6.0)    #(6.0,4.0)\n",
    "    mpl.rcParams['font.size']=12                #10 \n",
    "    mpl.rcParams['savefig.dpi']=100             #72 \n",
    "    mpl.rcParams['figure.subplot.bottom']=.1 \n",
    "    stopwords = set(STOPWORDS)\n",
    "    wordcloud = WordCloud(\n",
    "                              background_color='white',\n",
    "                              stopwords=stopwords,\n",
    "                              width=800, height=400,\n",
    "                              max_words=200,\n",
    "                              max_font_size=40, \n",
    "                              random_state=42\n",
    "                             ).generate(str(list_di))\n",
    "    fig = plt.figure(1)\n",
    "    plt.figure( figsize=(20,10), facecolor='k')\n",
    "    plt.imshow(wordcloud)\n",
    "    plt.axis('off')\n",
    "    fig.savefig(\"word1.png\", dpi=1800)\n",
    "    plt.show()"
   ]
  }
 ],
 "metadata": {
  "kernelspec": {
   "display_name": "Python 3",
   "language": "python",
   "name": "python3"
  },
  "language_info": {
   "codemirror_mode": {
    "name": "ipython",
    "version": 3
   },
   "file_extension": ".py",
   "mimetype": "text/x-python",
   "name": "python",
   "nbconvert_exporter": "python",
   "pygments_lexer": "ipython3",
   "version": "3.5.2"
  }
 },
 "nbformat": 4,
 "nbformat_minor": 2
}
