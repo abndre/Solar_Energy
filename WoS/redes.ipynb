{
 "cells": [
  {
   "cell_type": "code",
   "execution_count": 7,
   "metadata": {},
   "outputs": [],
   "source": [
    "import pandas as pd\n",
    "import matplotlib.pyplot as plt\n",
    "import numpy as np\n",
    "import codecs\n",
    "import glob\n",
    "\n",
    "from subprocess import check_output\n",
    "from wordcloud import WordCloud, STOPWORDS\n",
    "import matplotlib as mpl\n",
    "\n",
    "from IPython.display import display\n",
    "pd.options.display.max_columns = None\n",
    "\n",
    "#import\n",
    "from WC import WordcloudPlot, Teste, WordcloudPlotLIST"
   ]
  },
  {
   "cell_type": "code",
   "execution_count": 8,
   "metadata": {},
   "outputs": [],
   "source": [
    "columns =  ['PT', 'AU', 'BA', 'BE', 'GP', 'AF', 'BF', 'CA', 'TI', 'SO', 'SE', 'BS',\n",
    "       'LA', 'DT', 'CT', 'CY', 'CL', 'SP', 'HO', 'DE', 'ID', 'AB', 'C1', 'RP',\n",
    "       'EM', 'RI', 'OI', 'FU', 'FX', 'CR', 'NR', 'TC', 'Z9', 'U1', 'U2', 'PU',\n",
    "       'PI', 'PA', 'SN', 'EI', 'BN', 'J9', 'JI', 'PD', 'PY', 'VL', 'IS', 'PN',\n",
    "       'SU', 'SI', 'MA', 'BP', 'EP', 'AR', 'DI', 'D2', 'EA', 'EY', 'PG', 'WC',\n",
    "       'SC', 'GA', 'UT', 'PM', 'OA', 'HC', 'HP', 'DA']\n",
    "path =r'all/' # use your path\n",
    "allFiles = glob.glob(path + \"/*.txt\")\n",
    "#doc = codecs.open(myfile,'rU','UTF-16')\n",
    "\n",
    "frame = pd.DataFrame()\n",
    "list_ = []\n",
    "for file_ in allFiles:\n",
    "    #print(file_)\n",
    "    doc = codecs.open(file_,'rU','UTF-16')\n",
    "    df = pd.read_csv(doc,usecols=columns, sep='\\t',parse_dates=True)\n",
    "    df=df.where((pd.notnull(df)), None)\n",
    "    list_.append(df)\n",
    "frame = pd.concat(list_)"
   ]
  },
  {
   "cell_type": "code",
   "execution_count": 9,
   "metadata": {},
   "outputs": [
    {
     "data": {
      "text/plain": [
       "(2000, 68)"
      ]
     },
     "execution_count": 9,
     "metadata": {},
     "output_type": "execute_result"
    }
   ],
   "source": [
    "frame.shape"
   ]
  },
  {
   "cell_type": "code",
   "execution_count": 10,
   "metadata": {},
   "outputs": [
    {
     "data": {
      "text/html": [
       "<div>\n",
       "<style scoped>\n",
       "    .dataframe tbody tr th:only-of-type {\n",
       "        vertical-align: middle;\n",
       "    }\n",
       "\n",
       "    .dataframe tbody tr th {\n",
       "        vertical-align: top;\n",
       "    }\n",
       "\n",
       "    .dataframe thead th {\n",
       "        text-align: right;\n",
       "    }\n",
       "</style>\n",
       "<table border=\"1\" class=\"dataframe\">\n",
       "  <thead>\n",
       "    <tr style=\"text-align: right;\">\n",
       "      <th></th>\n",
       "      <th>PT</th>\n",
       "      <th>AU</th>\n",
       "      <th>BA</th>\n",
       "      <th>BE</th>\n",
       "      <th>GP</th>\n",
       "      <th>AF</th>\n",
       "      <th>BF</th>\n",
       "      <th>CA</th>\n",
       "      <th>TI</th>\n",
       "      <th>SO</th>\n",
       "      <th>SE</th>\n",
       "      <th>BS</th>\n",
       "      <th>LA</th>\n",
       "      <th>DT</th>\n",
       "      <th>CT</th>\n",
       "      <th>CY</th>\n",
       "      <th>CL</th>\n",
       "      <th>SP</th>\n",
       "      <th>HO</th>\n",
       "      <th>DE</th>\n",
       "      <th>ID</th>\n",
       "      <th>AB</th>\n",
       "      <th>C1</th>\n",
       "      <th>RP</th>\n",
       "      <th>EM</th>\n",
       "      <th>RI</th>\n",
       "      <th>OI</th>\n",
       "      <th>FU</th>\n",
       "      <th>FX</th>\n",
       "      <th>CR</th>\n",
       "      <th>NR</th>\n",
       "      <th>TC</th>\n",
       "      <th>Z9</th>\n",
       "      <th>U1</th>\n",
       "      <th>U2</th>\n",
       "      <th>PU</th>\n",
       "      <th>PI</th>\n",
       "      <th>PA</th>\n",
       "      <th>SN</th>\n",
       "      <th>EI</th>\n",
       "      <th>BN</th>\n",
       "      <th>J9</th>\n",
       "      <th>JI</th>\n",
       "      <th>PD</th>\n",
       "      <th>PY</th>\n",
       "      <th>VL</th>\n",
       "      <th>IS</th>\n",
       "      <th>PN</th>\n",
       "      <th>SU</th>\n",
       "      <th>SI</th>\n",
       "      <th>MA</th>\n",
       "      <th>BP</th>\n",
       "      <th>EP</th>\n",
       "      <th>AR</th>\n",
       "      <th>DI</th>\n",
       "      <th>D2</th>\n",
       "      <th>EA</th>\n",
       "      <th>EY</th>\n",
       "      <th>PG</th>\n",
       "      <th>WC</th>\n",
       "      <th>SC</th>\n",
       "      <th>GA</th>\n",
       "      <th>UT</th>\n",
       "      <th>PM</th>\n",
       "      <th>OA</th>\n",
       "      <th>HC</th>\n",
       "      <th>HP</th>\n",
       "      <th>DA</th>\n",
       "    </tr>\n",
       "  </thead>\n",
       "  <tbody>\n",
       "    <tr>\n",
       "      <th>0</th>\n",
       "      <td>J</td>\n",
       "      <td>Conings, B; Drijkoningen, J; Gauquelin, N; Bab...</td>\n",
       "      <td>None</td>\n",
       "      <td>None</td>\n",
       "      <td>None</td>\n",
       "      <td>Conings, Bert; Drijkoningen, Jeroen; Gauquelin...</td>\n",
       "      <td>None</td>\n",
       "      <td>None</td>\n",
       "      <td>Intrinsic Thermal Instability of Methylammoniu...</td>\n",
       "      <td>ADVANCED ENERGY MATERIALS</td>\n",
       "      <td>None</td>\n",
       "      <td>None</td>\n",
       "      <td>English</td>\n",
       "      <td>Article</td>\n",
       "      <td>None</td>\n",
       "      <td>None</td>\n",
       "      <td>None</td>\n",
       "      <td>None</td>\n",
       "      <td>None</td>\n",
       "      <td>atomic force microscopy; perovskite solar cell...</td>\n",
       "      <td>HYBRID SOLAR-CELLS; ELECTRONIC-STRUCTURE; HALI...</td>\n",
       "      <td>Organolead halide perovskites currently are th...</td>\n",
       "      <td>[Conings, Bert; Drijkoningen, Jeroen; Babayigi...</td>\n",
       "      <td>Conings, B (reprint author), Hasselt Univ, Ins...</td>\n",
       "      <td>bert.conings@uhasselt.be; hansgerd.boyen@uhass...</td>\n",
       "      <td>Boyen, Hans-Gerd/N-2214-2014; D'Haen, Jan/K-19...</td>\n",
       "      <td>Boyen, Hans-Gerd/0000-0003-0711-7597; D'Haen, ...</td>\n",
       "      <td>Bijzonder Onderzoeksfonds (BOF, Hasselt Univer...</td>\n",
       "      <td>This work was financially supported by the Bij...</td>\n",
       "      <td>Acik IO, 2009, J THERM ANAL CALORIM, V97, P39,...</td>\n",
       "      <td>49</td>\n",
       "      <td>311</td>\n",
       "      <td>313</td>\n",
       "      <td>51</td>\n",
       "      <td>318</td>\n",
       "      <td>WILEY-V C H VERLAG GMBH</td>\n",
       "      <td>WEINHEIM</td>\n",
       "      <td>BOSCHSTRASSE 12, D-69469 WEINHEIM, GERMANY</td>\n",
       "      <td>1614-6832</td>\n",
       "      <td>1614-6840</td>\n",
       "      <td>None</td>\n",
       "      <td>ADV ENERGY MATER</td>\n",
       "      <td>Adv. Energy Mater.</td>\n",
       "      <td>AUG 5</td>\n",
       "      <td>2015</td>\n",
       "      <td>5</td>\n",
       "      <td>15</td>\n",
       "      <td>None</td>\n",
       "      <td>None</td>\n",
       "      <td>None</td>\n",
       "      <td>None</td>\n",
       "      <td>None</td>\n",
       "      <td>None</td>\n",
       "      <td>1500477</td>\n",
       "      <td>10.1002/aenm.201500477</td>\n",
       "      <td>None</td>\n",
       "      <td>None</td>\n",
       "      <td>None</td>\n",
       "      <td>8</td>\n",
       "      <td>Chemistry, Physical; Energy &amp; Fuels; Materials...</td>\n",
       "      <td>Chemistry; Energy &amp; Fuels; Materials Science; ...</td>\n",
       "      <td>CO7WT</td>\n",
       "      <td>WOS:000359374900005</td>\n",
       "      <td>None</td>\n",
       "      <td>None</td>\n",
       "      <td>Y</td>\n",
       "      <td>N</td>\n",
       "      <td>2018-05-11</td>\n",
       "    </tr>\n",
       "    <tr>\n",
       "      <th>1</th>\n",
       "      <td>J</td>\n",
       "      <td>Yan, Y; Qian, Y; Sharif, H; Tipper, D</td>\n",
       "      <td>None</td>\n",
       "      <td>None</td>\n",
       "      <td>None</td>\n",
       "      <td>Yan, Ye; Qian, Yi; Sharif, Hamid; Tipper, David</td>\n",
       "      <td>None</td>\n",
       "      <td>None</td>\n",
       "      <td>A Survey on Smart Grid Communication Infrastru...</td>\n",
       "      <td>IEEE COMMUNICATIONS SURVEYS AND TUTORIALS</td>\n",
       "      <td>None</td>\n",
       "      <td>None</td>\n",
       "      <td>English</td>\n",
       "      <td>Article</td>\n",
       "      <td>None</td>\n",
       "      <td>None</td>\n",
       "      <td>None</td>\n",
       "      <td>None</td>\n",
       "      <td>None</td>\n",
       "      <td>Smart grid; communication infrastructure; inte...</td>\n",
       "      <td>POWER-LINE COMMUNICATION; MICRO-GENERATION; SY...</td>\n",
       "      <td>A communication infrastructure is an essential...</td>\n",
       "      <td>[Yan, Ye; Qian, Yi; Sharif, Hamid] Univ Nebras...</td>\n",
       "      <td>Yan, Y (reprint author), Univ Nebraska Lincoln...</td>\n",
       "      <td>yqian@ieee.org</td>\n",
       "      <td>None</td>\n",
       "      <td>None</td>\n",
       "      <td>None</td>\n",
       "      <td>None</td>\n",
       "      <td>Acharya S., 2010, IEEE PES TRANSM DIST, P1; Ag...</td>\n",
       "      <td>100</td>\n",
       "      <td>311</td>\n",
       "      <td>322</td>\n",
       "      <td>47</td>\n",
       "      <td>156</td>\n",
       "      <td>IEEE-INST ELECTRICAL ELECTRONICS ENGINEERS INC</td>\n",
       "      <td>PISCATAWAY</td>\n",
       "      <td>445 HOES LANE, PISCATAWAY, NJ 08855-4141 USA</td>\n",
       "      <td>1553-877X</td>\n",
       "      <td>None</td>\n",
       "      <td>None</td>\n",
       "      <td>IEEE COMMUN SURV TUT</td>\n",
       "      <td>IEEE Commun. Surv. Tutor.</td>\n",
       "      <td>None</td>\n",
       "      <td>2013</td>\n",
       "      <td>15</td>\n",
       "      <td>1</td>\n",
       "      <td>None</td>\n",
       "      <td>None</td>\n",
       "      <td>None</td>\n",
       "      <td>None</td>\n",
       "      <td>5</td>\n",
       "      <td>20</td>\n",
       "      <td>None</td>\n",
       "      <td>10.1109/SURV.2012.021312.00034</td>\n",
       "      <td>None</td>\n",
       "      <td>None</td>\n",
       "      <td>None</td>\n",
       "      <td>16</td>\n",
       "      <td>Computer Science, Information Systems; Telecom...</td>\n",
       "      <td>Computer Science; Telecommunications</td>\n",
       "      <td>125XA</td>\n",
       "      <td>WOS:000317574100002</td>\n",
       "      <td>None</td>\n",
       "      <td>None</td>\n",
       "      <td>Y</td>\n",
       "      <td>N</td>\n",
       "      <td>2018-05-11</td>\n",
       "    </tr>\n",
       "  </tbody>\n",
       "</table>\n",
       "</div>"
      ],
      "text/plain": [
       "  PT                                                 AU    BA    BE    GP  \\\n",
       "0  J  Conings, B; Drijkoningen, J; Gauquelin, N; Bab...  None  None  None   \n",
       "1  J              Yan, Y; Qian, Y; Sharif, H; Tipper, D  None  None  None   \n",
       "\n",
       "                                                  AF    BF    CA  \\\n",
       "0  Conings, Bert; Drijkoningen, Jeroen; Gauquelin...  None  None   \n",
       "1    Yan, Ye; Qian, Yi; Sharif, Hamid; Tipper, David  None  None   \n",
       "\n",
       "                                                  TI  \\\n",
       "0  Intrinsic Thermal Instability of Methylammoniu...   \n",
       "1  A Survey on Smart Grid Communication Infrastru...   \n",
       "\n",
       "                                          SO    SE    BS       LA       DT  \\\n",
       "0                  ADVANCED ENERGY MATERIALS  None  None  English  Article   \n",
       "1  IEEE COMMUNICATIONS SURVEYS AND TUTORIALS  None  None  English  Article   \n",
       "\n",
       "     CT    CY    CL    SP    HO  \\\n",
       "0  None  None  None  None  None   \n",
       "1  None  None  None  None  None   \n",
       "\n",
       "                                                  DE  \\\n",
       "0  atomic force microscopy; perovskite solar cell...   \n",
       "1  Smart grid; communication infrastructure; inte...   \n",
       "\n",
       "                                                  ID  \\\n",
       "0  HYBRID SOLAR-CELLS; ELECTRONIC-STRUCTURE; HALI...   \n",
       "1  POWER-LINE COMMUNICATION; MICRO-GENERATION; SY...   \n",
       "\n",
       "                                                  AB  \\\n",
       "0  Organolead halide perovskites currently are th...   \n",
       "1  A communication infrastructure is an essential...   \n",
       "\n",
       "                                                  C1  \\\n",
       "0  [Conings, Bert; Drijkoningen, Jeroen; Babayigi...   \n",
       "1  [Yan, Ye; Qian, Yi; Sharif, Hamid] Univ Nebras...   \n",
       "\n",
       "                                                  RP  \\\n",
       "0  Conings, B (reprint author), Hasselt Univ, Ins...   \n",
       "1  Yan, Y (reprint author), Univ Nebraska Lincoln...   \n",
       "\n",
       "                                                  EM  \\\n",
       "0  bert.conings@uhasselt.be; hansgerd.boyen@uhass...   \n",
       "1                                     yqian@ieee.org   \n",
       "\n",
       "                                                  RI  \\\n",
       "0  Boyen, Hans-Gerd/N-2214-2014; D'Haen, Jan/K-19...   \n",
       "1                                               None   \n",
       "\n",
       "                                                  OI  \\\n",
       "0  Boyen, Hans-Gerd/0000-0003-0711-7597; D'Haen, ...   \n",
       "1                                               None   \n",
       "\n",
       "                                                  FU  \\\n",
       "0  Bijzonder Onderzoeksfonds (BOF, Hasselt Univer...   \n",
       "1                                               None   \n",
       "\n",
       "                                                  FX  \\\n",
       "0  This work was financially supported by the Bij...   \n",
       "1                                               None   \n",
       "\n",
       "                                                  CR   NR   TC   Z9  U1   U2  \\\n",
       "0  Acik IO, 2009, J THERM ANAL CALORIM, V97, P39,...   49  311  313  51  318   \n",
       "1  Acharya S., 2010, IEEE PES TRANSM DIST, P1; Ag...  100  311  322  47  156   \n",
       "\n",
       "                                               PU          PI  \\\n",
       "0                         WILEY-V C H VERLAG GMBH    WEINHEIM   \n",
       "1  IEEE-INST ELECTRICAL ELECTRONICS ENGINEERS INC  PISCATAWAY   \n",
       "\n",
       "                                             PA         SN         EI    BN  \\\n",
       "0    BOSCHSTRASSE 12, D-69469 WEINHEIM, GERMANY  1614-6832  1614-6840  None   \n",
       "1  445 HOES LANE, PISCATAWAY, NJ 08855-4141 USA  1553-877X       None  None   \n",
       "\n",
       "                     J9                         JI     PD    PY  VL  IS    PN  \\\n",
       "0      ADV ENERGY MATER         Adv. Energy Mater.  AUG 5  2015   5  15  None   \n",
       "1  IEEE COMMUN SURV TUT  IEEE Commun. Surv. Tutor.   None  2013  15   1  None   \n",
       "\n",
       "     SU    SI    MA    BP    EP       AR                              DI  \\\n",
       "0  None  None  None  None  None  1500477          10.1002/aenm.201500477   \n",
       "1  None  None  None     5    20     None  10.1109/SURV.2012.021312.00034   \n",
       "\n",
       "     D2    EA    EY  PG                                                 WC  \\\n",
       "0  None  None  None   8  Chemistry, Physical; Energy & Fuels; Materials...   \n",
       "1  None  None  None  16  Computer Science, Information Systems; Telecom...   \n",
       "\n",
       "                                                  SC     GA  \\\n",
       "0  Chemistry; Energy & Fuels; Materials Science; ...  CO7WT   \n",
       "1               Computer Science; Telecommunications  125XA   \n",
       "\n",
       "                    UT    PM    OA HC HP          DA  \n",
       "0  WOS:000359374900005  None  None  Y  N  2018-05-11  \n",
       "1  WOS:000317574100002  None  None  Y  N  2018-05-11  "
      ]
     },
     "execution_count": 10,
     "metadata": {},
     "output_type": "execute_result"
    }
   ],
   "source": [
    "frame.head(2)"
   ]
  },
  {
   "cell_type": "markdown",
   "metadata": {},
   "source": [
    "# Criando a rede de cocitacoes baseado nos abstract"
   ]
  },
  {
   "cell_type": "markdown",
   "metadata": {},
   "source": [
    "## Cada artigo sera analisado com todos, a sua conecção será baseada na quantidade de palavras iguais no abstract"
   ]
  },
  {
   "cell_type": "code",
   "execution_count": 18,
   "metadata": {},
   "outputs": [],
   "source": [
    "listadicio={'autores':frame.AU.tolist(),'abstract':frame.AB.tolist()}"
   ]
  },
  {
   "cell_type": "code",
   "execution_count": 21,
   "metadata": {},
   "outputs": [],
   "source": [
    "autores =frame.AU.tolist()\n",
    "abstract=frame.AB.tolist()"
   ]
  },
  {
   "cell_type": "code",
   "execution_count": 22,
   "metadata": {},
   "outputs": [
    {
     "data": {
      "text/plain": [
       "dict_keys(['autores', 'abstract'])"
      ]
     },
     "execution_count": 22,
     "metadata": {},
     "output_type": "execute_result"
    }
   ],
   "source": [
    "listadicio.keys()"
   ]
  },
  {
   "cell_type": "markdown",
   "metadata": {},
   "source": [
    "# Redes codigos"
   ]
  },
  {
   "cell_type": "code",
   "execution_count": 24,
   "metadata": {},
   "outputs": [],
   "source": [
    "import pdb\n",
    "from collections import defaultdict\n",
    "import networkx as nx\n",
    "import matplotlib.pyplot as plt\n",
    "import community\n",
    "import operator\n",
    "import nltk\n",
    "\n",
    "from networkx.readwrite import json_graph\n",
    "import json\n",
    "\n",
    "partition_colors = ['#DD0000', '#00DD00', '#0000DD', '#DDDD00',\n",
    "                    '#00DDDD', '#DD00DD', '#880000', '#008800',\n",
    "                    '#000088', '#880088', '#888800', '#008888',\n",
    "                    '#440000', '#004400', '#000044', '#440044',\n",
    "                    '#444400', '#004444', '#220000', '#002200',\n",
    "                    '#000022', '#220022', '#222200', '#002222']\n",
    "\n",
    "\n",
    "G = nx.Graph()"
   ]
  },
  {
   "cell_type": "code",
   "execution_count": 61,
   "metadata": {},
   "outputs": [],
   "source": [
    "listaset =[]\n",
    "tamanho = len(autores)\n",
    "tamanhoset =5 \n",
    "for i in range(0,tamanho):\n",
    "    primeiro = autores[i]\n",
    "    #G.add_node(primeiro)\n",
    "    for j in range(i+1,tamanho):\n",
    "        segundo = autores[j]\n",
    "        #print(abstract[j],'\\n')\n",
    "        #print(abstract[i],'\\n')\n",
    "        try:\n",
    "            value = (set(abstract[i].split(' ')).intersection(abstract[j].split(' ')))\n",
    "            value = set(value).difference(STOPWORDS)\n",
    "            value =[s for s in value if len(s) > 4]\n",
    "            if len(value)>tamanhoset:\n",
    "                G.add_edge(primeiro,segundo,weight=len(values))\n",
    "            listaset.append(value)\n",
    "        except:\n",
    "            pass\n",
    "        #break\n",
    "    #break\n",
    "    "
   ]
  },
  {
   "cell_type": "code",
   "execution_count": 62,
   "metadata": {},
   "outputs": [
    {
     "data": {
      "text/plain": [
       "1452692"
      ]
     },
     "execution_count": 62,
     "metadata": {},
     "output_type": "execute_result"
    }
   ],
   "source": [
    "len(listaset)"
   ]
  },
  {
   "cell_type": "code",
   "execution_count": 66,
   "metadata": {},
   "outputs": [
    {
     "data": {
      "text/plain": [
       "NodeView(())"
      ]
     },
     "execution_count": 66,
     "metadata": {},
     "output_type": "execute_result"
    }
   ],
   "source": [
    "G.nodes()"
   ]
  },
  {
   "cell_type": "code",
   "execution_count": 67,
   "metadata": {},
   "outputs": [
    {
     "data": {
      "text/plain": [
       "EdgeView([])"
      ]
     },
     "execution_count": 67,
     "metadata": {},
     "output_type": "execute_result"
    }
   ],
   "source": [
    "G.edges()"
   ]
  },
  {
   "cell_type": "code",
   "execution_count": 68,
   "metadata": {},
   "outputs": [
    {
     "data": {
      "image/png": "[encoded data removed]",
      "text/plain": [
       "<Figure size 432x288 with 1 Axes>"
      ]
     },
     "metadata": {},
     "output_type": "display_data"
    }
   ],
   "source": [
    "nx.draw(G)"
   ]
  },
  {
   "cell_type": "code",
   "execution_count": null,
   "metadata": {},
   "outputs": [],
   "source": []
  }
 ],
 "metadata": {
  "kernelspec": {
   "display_name": "Python 3",
   "language": "python",
   "name": "python3"
  },
  "language_info": {
   "codemirror_mode": {
    "name": "ipython",
    "version": 3
   },
   "file_extension": ".py",
   "mimetype": "text/x-python",
   "name": "python",
   "nbconvert_exporter": "python",
   "pygments_lexer": "ipython3",
   "version": "3.6.5"
  }
 },
 "nbformat": 4,
 "nbformat_minor": 2
}
